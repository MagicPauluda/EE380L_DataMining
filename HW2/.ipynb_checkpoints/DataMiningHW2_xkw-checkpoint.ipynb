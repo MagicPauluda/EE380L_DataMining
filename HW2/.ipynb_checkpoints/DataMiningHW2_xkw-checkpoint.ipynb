{
 "cells": [
  {
   "cell_type": "markdown",
   "metadata": {},
   "source": [
    "# <p style=\"text-align: center;\">EE 380L: Data Mining</p>\n",
    "# <p style=\"text-align: center;\">Assignment 2</p>\n",
    "## <p style=\"text-align: center;\">Total points: 85 </p>\n",
    "## <p style=\"text-align: center;\">Due: September 29th(09/29/2020) submitted via Canvas by 11:59 pm</p>\n",
    "\n",
    "Your homework should be written in a **Jupyter notebook**. You may work in groups of two if you wish. Only one student per team needs to submit the assignment on Canvas.  But be sure to include name and UT eID for both students.\n",
    "\n",
    "Also, please make sure your code runs and the graphics (and anything else) are displayed in your notebook before submitting. (%matplotlib inline)*\n",
    "\n",
    "For the descriptive questions, you can write down the solution in paper and embed a picture of it to the notebook or type it out."
   ]
  },
  {
   "cell_type": "markdown",
   "metadata": {},
   "source": [
    "# Question 1 - Regularized regression (40 pts)\n",
    "The data given is in \"data.csv\" - this is same fish dataset from the previous assignment, in this question you will explore the application of Lasso and Ridge regression using sklearn package in Python.\n",
    "\n",
    "* Use the below code to load the dataset given in data.csv. Create a train_test split of 75:25 with random state = 50\n",
    "\n",
    "* Scale the data so that each of the independent variables have zero mean and unit variance. You can use the [sklearn.preprocessing.scale](https://scikit-learn.org/stable/modules/generated/sklearn.preprocessing.scale.html) function for this."
   ]
  },
  {
   "cell_type": "code",
   "execution_count": 87,
   "metadata": {},
   "outputs": [],
   "source": [
    "from sklearn import linear_model\n",
    "from sklearn.metrics import mean_absolute_error\n",
    "import numpy as np\n",
    "import pandas as pd\n",
    "pd.options.mode.chained_assignment = None\n",
    "from sklearn.model_selection import train_test_split\n",
    "from sklearn.preprocessing import scale\n",
    "\n",
    "\n",
    "df = pd.read_csv(\"data.csv\", index_col=0)\n",
    "df = df[~df.isin([0, np.nan, np.inf, -np.inf]).any(1)]\n",
    "\n",
    "X = df.drop(['Weight'], axis=1)\n",
    "y = df['Weight']\n",
    "\n",
    "X = scale(X)\n",
    "X_train, X_test, y_train, y_test = train_test_split(X, y, test_size=0.25, random_state=50)\n"
   ]
  },
  {
   "cell_type": "markdown",
   "metadata": {},
   "source": [
    "a) Use sklearn.linear_model.Lasso and sklearn.linear_model.Ridge classes to do a [5-fold cross validation](http://scikit-learn.org/stable/auto_examples/exercises/plot_cv_diabetes.html#example-exercises-plot-cv-diabetes-py) using sklearn's [KFold](http://scikit-learn.org/stable/modules/generated/sklearn.cross_validation.KFold.html). For the sweep of the regularization parameter, we will look at a grid of values ranging from $\\lambda = 10^{10}$ to $\\lambda = 10^{-2}$. In Python, you can consider this range of values as follows:\n",
    "\n",
    "      import numpy as np\n",
    "\n",
    "      alphas =  10**np.linspace(10,-2,100)*0.5\n",
    "\n",
    "  Report the best chosen $\\lambda$ based on cross validation. The cross validation should happen on your training data using  average MSE as the scoring metric. (8pts)\n",
    "\n",
    "b) Run ridge and lasso for all of the alphas specified above (on training data), and plot the coefficients learned for each of them - there should be one plot each for lasso and ridge, so a total of two plots; the plots for different features for a method should be on the same plot. What do you qualitatively observe when value of the regularization parameter is changed? (7pts)\n",
    "\n",
    "c) Run least squares regression, ridge, and lasso on the training data. For ridge and lasso, use only the best regularization parameter. Report the prediction error (MAE), Mean Squared Error(MSE) and ${R^2}$ on the test data for each. (5pts)\n",
    "\n",
    "d) Run lasso again with cross validation using [sklearn.linear_model.LassoCV](http://scikit-learn.org/stable/modules/generated/sklearn.linear_model.LassoCV.html). Set the cross validation parameters as follows:\n",
    "\n",
    "    LassoCV(alphas=None, cv=10, max_iter=10000)\n",
    "\n",
    "Report the best $\\lambda$ based on cross validation. Run lasso on the training data using the best $\\lambda$ and report the coefficeints for all variables. (5pts)\n",
    "\n",
    "e) Why did we have to scale the data before regularization? (5pts)\n",
    "\n",
    "f) Lasso and ridge regularization techniques are often used to combat overfitting during linear regression. Which of the two yields more sparse models (i.e. fewer number of parameters) when the tuning parameter $\\lambda$ is sufficiently large (but not infinite)? (5 pts)\n",
    "\n",
    "g) Run ElasticNet with the same values of alphas on the training data, and find the best value for alpha using MSE. Report the ${R^2}$ on test data and plot a graph showing the predictions and actual labels. Explain the results comparing the three regression models.(5 pts)"
   ]
  },
  {
   "cell_type": "markdown",
   "metadata": {},
   "source": [
    "# a)"
   ]
  },
  {
   "cell_type": "code",
   "execution_count": 110,
   "metadata": {},
   "outputs": [
    {
     "name": "stdout",
     "output_type": "stream",
     "text": [
      "Best lasso λ: 0.5748784976988678, Best MSE: 17402.001879843403\n"
     ]
    }
   ],
   "source": [
    "from sklearn import datasets\n",
    "#from sklearn.linear_model import LassoCV\n",
    "from sklearn.linear_model import Lasso\n",
    "from sklearn.linear_model import Ridge\n",
    "from sklearn.model_selection import KFold\n",
    "from sklearn.metrics import mean_squared_error\n",
    "#from sklearn.metrics import r2_score\n",
    "\n",
    "alphas =  10**np.linspace(10,-2,100)*0.5\n",
    "n_folds = 5\n",
    "kf = KFold(n_folds)\n",
    "kf.get_n_splits(X_train)\n",
    "\n",
    "lasso_avg_rmse = []\n",
    "\n",
    "for a in alphas:\n",
    "    lasso = Lasso(alpha=a,max_iter = 1000000)\n",
    "    avg_mse = 0\n",
    "    for train_index, test_index in kf.split(X_train):\n",
    "        #print(\"TRAIN:\", train_index, \"TEST:\", test_index)\n",
    "        lasso.fit(X_train[train_index], y_train[train_index])\n",
    "        avg_mse = avg_mse + mean_squared_error(y_train[test_index], lasso.predict(X_train[test_index])) \n",
    "    lasso_avg_rmse.append(avg_mse / n_folds)\n",
    "    \n",
    "best_alpha_lasso_index = lasso_avg_rmse.index(min(lasso_avg_rmse))\n",
    "best_RMSE_lasso = lasso_avg_rmse[best_alpha_lasso_index]\n",
    "best_alpha_lasso = alphas[best_alpha_lasso_index]\n",
    "print(\"Best lasso λ: {0}, Best MSE: {1}\".format(best_alpha_lasso, best_RMSE_lasso))\n"
   ]
  },
  {
   "cell_type": "code",
   "execution_count": 113,
   "metadata": {},
   "outputs": [
    {
     "name": "stdout",
     "output_type": "stream",
     "text": [
      "Best ridge λ: 16.372745814388658, Best MSE: 16899.149862427996\n"
     ]
    }
   ],
   "source": [
    "ridge_avg_mse = []\n",
    "\n",
    "for a in alphas:\n",
    "    ridge = Ridge(alpha=a,max_iter = 1000000)\n",
    "    avg_mse = 0\n",
    "    for train_index, test_index in kf.split(X_train):\n",
    "        #print(\"TRAIN:\", train_index, \"TEST:\", test_index)\n",
    "        ridge.fit(X_train[train_index], y_train[train_index])\n",
    "        avg_mse = avg_mse + mean_squared_error(y_train[test_index], ridge.predict(X_train[test_index])) \n",
    "    ridge_avg_mse.append(avg_mse / n_folds)\n",
    "    \n",
    "best_alpha_ridge_index = ridge_avg_mse.index(min(ridge_avg_mse))\n",
    "best_MSE_ridge = ridge_avg_mse[best_alpha_ridge_index]\n",
    "best_alpha_ridge = alphas[best_alpha_ridge_index]\n",
    "print(\"Best ridge λ: {0}, Best MSE: {1}\".format(best_alpha_ridge, best_MSE_ridge))"
   ]
  },
  {
   "cell_type": "code",
   "execution_count": null,
   "metadata": {},
   "outputs": [],
   "source": []
  },
  {
   "cell_type": "code",
   "execution_count": null,
   "metadata": {},
   "outputs": [],
   "source": []
  },
  {
   "cell_type": "code",
   "execution_count": null,
   "metadata": {},
   "outputs": [],
   "source": []
  },
  {
   "cell_type": "code",
   "execution_count": null,
   "metadata": {},
   "outputs": [],
   "source": []
  },
  {
   "cell_type": "markdown",
   "metadata": {},
   "source": [
    "# Practice Problem - Linear Regression: Least Squares and MLE (Not to be submitted)  \n",
    "This question is a practise for you all to understand mathematically the assumptions of linear regression model. \n",
    "\n",
    "Consider linear regression with a single independent variable. Thus, predicted values are given by:  \n",
    "$$y  = w_0  + w_1 x$$\n",
    "\n",
    "Mathematically show that if the assumptions behind linear regression hold (slide 3 of the MLR slides), then the values of $w_0$ and $w_1$ obtained by minimizing MSE are indeed the  maximum likelihood solution of the corresponding underlying probability model relating the target variable to the input variable."
   ]
  },
  {
   "cell_type": "code",
   "execution_count": null,
   "metadata": {},
   "outputs": [],
   "source": []
  },
  {
   "cell_type": "markdown",
   "metadata": {},
   "source": [
    "# Question 2 - Linear Regression: Regularizaton - Least Squares and MLE (5 pts)\n",
    "Consider linear regression with an additional regularization term. The, predicted values are given by:  \n",
    "$$\\textrm{min}_{\\beta} \\Bigg\\{\\sum_{i}(y_{i}-\\beta x_i{'})^2 \\Bigg\\} + \\lambda \\beta^2$$ \n",
    "\n",
    "\n",
    "where in this problem $y_i$, $x_i$, and $\\beta$ are all scalars. Find a formula for $\\beta$ that minimizes the equation above and prove that $\\beta$ minimizes the equation above. $\\lambda$ is a positive constant\n"
   ]
  },
  {
   "cell_type": "code",
   "execution_count": null,
   "metadata": {},
   "outputs": [],
   "source": []
  },
  {
   "cell_type": "markdown",
   "metadata": {},
   "source": [
    "# Question 3 - Finding ${R^2}$ (10 pts)\n",
    "\n",
    "Suppose we are given samples generated according to\n",
    "\n",
    "$y_i$ = $8x_i$ + $w_i$\n",
    "where $w_i$ and $x_i$ are $N(0,1)$. \n",
    "\n",
    "Assume we have infinite samples.\n",
    "\n",
    "(a) What will be the linear regression predictor $\\hat{\\beta}$ ? (5 pts)\n",
    "\n",
    "(b) What will be the ${R^2}$ of this $\\hat{\\beta}$  ? (5 pts)"
   ]
  },
  {
   "cell_type": "code",
   "execution_count": null,
   "metadata": {},
   "outputs": [],
   "source": []
  },
  {
   "cell_type": "markdown",
   "metadata": {},
   "source": [
    "# Question 4 - Collinearity in Multiple Linear Regression (5pts)\n",
    "What do you understand by the collinearity problem that can be encountered in MLR? Suggest one way of alleviating this problem."
   ]
  },
  {
   "cell_type": "code",
   "execution_count": null,
   "metadata": {},
   "outputs": [],
   "source": []
  },
  {
   "cell_type": "markdown",
   "metadata": {},
   "source": [
    "# Question 5 - Bias - Variance (5 pts)\n",
    "Suppose you learn a ridge regression based on some of the independent variables available to you,\n",
    "and including a few interaction terms as well. Your result is disappointing, and you believe that the model is\n",
    "suffering from either too much bias or too much variance. Describe briefly how you will test which alternative is\n",
    "more likely to be true. (there is no extra data that you can use, so “get more data” is not an option).\n"
   ]
  },
  {
   "cell_type": "markdown",
   "metadata": {},
   "source": [
    "# Answer"
   ]
  },
  {
   "cell_type": "markdown",
   "metadata": {},
   "source": [
    "To figure out the model is contained with too much bias or too much variance, one solution would be manipulate the model complexity via regularization. By increasing the value of $\\lambda$, the model complexity is increased and vise versa. Suppose in our original model, $\\lambda = \\lambda^*$. We could compute the MSE on both testing set and training set with one new $\\lambda$ slightly larger than $\\lambda^*$, i.e. $\\lambda_1>\\lambda^*$. If the MSE of both testing set and training set reduce by approximately the same percentage, we can conclude that the current model is suffering more bias than variance. If the MSE of testing set reduces, but MSE of training set increases, we can conclude that the current model is suffering more variance than bias."
   ]
  },
  {
   "cell_type": "markdown",
   "metadata": {},
   "source": [
    "# Question 6 (20 pts): \n",
    "\n",
    "We want to build a model that can predict y for unknown inputs x.(15 pts)\n",
    "\n",
    "(a) (5 pts) Fit a linear model to the training data, and report mean squared error on the test data. Plot the data (y_train vs x_train and y_test vs x_test) and predictions on the test set (prediction on x_test vs x_test), clearly denoting the training, testing, and predicted points. All the plots must be in the same figure and be clearly labeled.\n",
    "\n",
    "(b) (10 pts) Fit polynomial models of degrees 2, 3, 4, 6 and 8 to the training data, Report mean squared error (on both train and test sets) for all the models. Plot the data (y_train vs x_train and y_test vs x_test), the fitted models (prediction on x_all by different models vs x_all), and the predictions on the test set (prediction on x_test by different models vs x_test). All the plots must be in the same figure and be clearly labeled.\n",
    "\n",
    "\n",
    "(c) (5 pts) Which model performed the best? Explain using the bias-variance tradeoff.\n"
   ]
  },
  {
   "cell_type": "markdown",
   "metadata": {},
   "source": [
    "* Use the below code to load the data from the file 'ps01.data'. It is organized as a dictionary, of train and test data."
   ]
  },
  {
   "cell_type": "code",
   "execution_count": 40,
   "metadata": {},
   "outputs": [],
   "source": [
    "from sklearn import linear_model as lm\n",
    "from sklearn.metrics import mean_squared_error,mean_absolute_error\n",
    "import matplotlib.pyplot as plt\n",
    "import numpy as np\n",
    "%matplotlib inline\n",
    "# code here\n",
    "\n",
    "data_load = np.load('ps01.data',allow_pickle=True)\n",
    "x_train = data_load.item().get(\"Xtrain\")\n",
    "y_train = data_load.item().get(\"Ytrain\")\n",
    "x_test = data_load.item().get(\"Xtest\")\n",
    "y_test =data_load.item().get(\"Ytest\")\n",
    "x_all = np.linspace(-10,10,101).reshape(-1,1)"
   ]
  },
  {
   "cell_type": "code",
   "execution_count": 16,
   "metadata": {},
   "outputs": [
    {
     "ename": "AttributeError",
     "evalue": "'numpy.ndarray' object has no attribute 'type'",
     "output_type": "error",
     "traceback": [
      "\u001b[1;31m---------------------------------------------------------------------------\u001b[0m",
      "\u001b[1;31mAttributeError\u001b[0m                            Traceback (most recent call last)",
      "\u001b[1;32m<ipython-input-16-0ae5d287d63e>\u001b[0m in \u001b[0;36m<module>\u001b[1;34m\u001b[0m\n\u001b[1;32m----> 1\u001b[1;33m \u001b[0mx_train\u001b[0m\u001b[1;33m.\u001b[0m\u001b[0mtype\u001b[0m\u001b[1;33m\u001b[0m\u001b[1;33m\u001b[0m\u001b[0m\n\u001b[0m",
      "\u001b[1;31mAttributeError\u001b[0m: 'numpy.ndarray' object has no attribute 'type'"
     ]
    }
   ],
   "source": [
    "x_train"
   ]
  },
  {
   "cell_type": "code",
   "execution_count": 4,
   "metadata": {},
   "outputs": [
    {
     "data": {
      "text/plain": [
       "(70, 1)"
      ]
     },
     "execution_count": 4,
     "metadata": {},
     "output_type": "execute_result"
    }
   ],
   "source": [
    "y_train.shape"
   ]
  },
  {
   "cell_type": "code",
   "execution_count": 5,
   "metadata": {},
   "outputs": [
    {
     "data": {
      "text/plain": [
       "(30, 1)"
      ]
     },
     "execution_count": 5,
     "metadata": {},
     "output_type": "execute_result"
    }
   ],
   "source": [
    "x_test.shape"
   ]
  },
  {
   "cell_type": "code",
   "execution_count": 6,
   "metadata": {},
   "outputs": [
    {
     "data": {
      "text/plain": [
       "(101, 1)"
      ]
     },
     "execution_count": 6,
     "metadata": {},
     "output_type": "execute_result"
    }
   ],
   "source": [
    "x_all.shape"
   ]
  },
  {
   "cell_type": "code",
   "execution_count": 10,
   "metadata": {},
   "outputs": [
    {
     "data": {
      "text/plain": [
       "array([-3.96224988])"
      ]
     },
     "execution_count": 10,
     "metadata": {},
     "output_type": "execute_result"
    }
   ],
   "source": [
    "min(x_train)"
   ]
  },
  {
   "cell_type": "markdown",
   "metadata": {},
   "source": [
    "# (a)"
   ]
  },
  {
   "cell_type": "code",
   "execution_count": 84,
   "metadata": {},
   "outputs": [
    {
     "name": "stdout",
     "output_type": "stream",
     "text": [
      "This is the MSE on test set:  145.89190193718787\n"
     ]
    }
   ],
   "source": [
    "regressor = lm.LinearRegression()  \n",
    "regressor.fit(x_train, y_train) #training the algorithm\n",
    "y_all_pred = regressor.predict(x_all)\n",
    "MSE = mean_squared_error(y_test_pred,y_test)\n",
    "print(\"This is the MSE on test set: \", MSE)"
   ]
  },
  {
   "cell_type": "code",
   "execution_count": 85,
   "metadata": {},
   "outputs": [
    {
     "data": {
      "image/png": "[encoded data removed]",
      "text/plain": [
       "<Figure size 1080x720 with 1 Axes>"
      ]
     },
     "metadata": {
      "needs_background": "light"
     },
     "output_type": "display_data"
    }
   ],
   "source": [
    "fig = plt.figure(figsize=(15,10))\n",
    "plt.scatter(x_train, y_train, color='black',label = 'train')\n",
    "plt.scatter(x_test, y_test, color='red',label='test')\n",
    "plt.plot(x_all,y_all_pred, color='blue',label='prediction of test')\n",
    "plt.legend(loc='upper left')\n",
    "plt.show()"
   ]
  },
  {
   "cell_type": "code",
   "execution_count": 17,
   "metadata": {},
   "outputs": [],
   "source": [
    "xyz=np.array(np.random.random((100,3)))"
   ]
  },
  {
   "cell_type": "code",
   "execution_count": 18,
   "metadata": {},
   "outputs": [
    {
     "data": {
      "text/plain": [
       "<matplotlib.collections.PathCollection at 0x252e7cd6fc8>"
      ]
     },
     "execution_count": 18,
     "metadata": {},
     "output_type": "execute_result"
    },
    {
     "data": {
      "image/png": "[encoded data removed]",
      "text/plain": [
       "<Figure size 432x288 with 1 Axes>"
      ]
     },
     "metadata": {
      "needs_background": "light"
     },
     "output_type": "display_data"
    }
   ],
   "source": [
    "plt.scatter(xyz[:,0], xyz[:,1])"
   ]
  },
  {
   "cell_type": "code",
   "execution_count": 22,
   "metadata": {},
   "outputs": [
    {
     "data": {
      "text/plain": [
       "(100, 3)"
      ]
     },
     "execution_count": 22,
     "metadata": {},
     "output_type": "execute_result"
    }
   ],
   "source": [
    "xyz.shape"
   ]
  },
  {
   "cell_type": "code",
   "execution_count": 21,
   "metadata": {},
   "outputs": [
    {
     "data": {
      "text/plain": [
       "(100,)"
      ]
     },
     "execution_count": 21,
     "metadata": {},
     "output_type": "execute_result"
    }
   ],
   "source": [
    "xyz[:,0].shape"
   ]
  },
  {
   "cell_type": "markdown",
   "metadata": {},
   "source": [
    "# (b)"
   ]
  },
  {
   "cell_type": "code",
   "execution_count": 78,
   "metadata": {},
   "outputs": [
    {
     "name": "stdout",
     "output_type": "stream",
     "text": [
      "MSE in test  set of degree 2 polynomial regression:  66.9397089976283\n",
      "MSE in train set of degree 2 polynomial regression:  8.37376365067868\n",
      "MSE in test  set of degree 3 polynomial regression:  62.605671427579104\n",
      "MSE in train set of degree 3 polynomial regression:  7.464914213471165\n",
      "MSE in test  set of degree 4 polynomial regression:  4.565136137796661\n",
      "MSE in train set of degree 4 polynomial regression:  3.9878737628026295\n",
      "MSE in test  set of degree 6 polynomial regression:  42.81018710643785\n",
      "MSE in train set of degree 6 polynomial regression:  3.601558023011234\n",
      "MSE in test  set of degree 8 polynomial regression:  145.89190193718787\n",
      "MSE in train set of degree 8 polynomial regression:  3.5598285269243894\n"
     ]
    },
    {
     "data": {
      "image/png": "[encoded data removed]",
      "text/plain": [
       "<Figure size 1080x720 with 1 Axes>"
      ]
     },
     "metadata": {
      "needs_background": "light"
     },
     "output_type": "display_data"
    }
   ],
   "source": [
    "# importing libraries for polynomial transform\n",
    "from sklearn.preprocessing import PolynomialFeatures\n",
    "from sklearn.pipeline import make_pipeline\n",
    "\n",
    "fig2 = plt.figure(figsize=(15,10))\n",
    "plt.scatter(x_train, y_train, color='black',label = 'train')\n",
    "plt.scatter(x_test, y_test, color='red',label='test')\n",
    "\n",
    "x_all = np.linspace(-5,5,101).reshape(-1,1)\n",
    "MSE_test_list=np.zeros(5)\n",
    "MSE_train_list=np.zeros(5)\n",
    "y_all_pred_list=np.zeros((101,5))\n",
    "count=0\n",
    "for degree in [2,3,4,6,8]:\n",
    "    #degree=2\n",
    "    polyreg=make_pipeline(PolynomialFeatures(degree),lm.LinearRegression())\n",
    "    polyreg.fit(x_train,y_train)\n",
    "    y_test_pred = polyreg.predict(x_test)\n",
    "    y_train_pred = polyreg.predict(x_train)\n",
    "    MSE_test = mean_squared_error(y_test_pred,y_test)\n",
    "    MSE_train = mean_squared_error(y_train_pred,y_train)\n",
    "    print(\"MSE in test  set of degree\", degree, \"polynomial regression: \", MSE_test)\n",
    "    print(\"MSE in train set of degree\", degree, \"polynomial regression: \", MSE_train)\n",
    "    MSE_test_list[count] = MSE_test\n",
    "    MSE_train_list[count] = MSE_train\n",
    "    y_all_pred = polyreg.predict(x_all)\n",
    "    y_all_pred_list[:,count] = y_all_pred.reshape((101,))\n",
    "    count = count+1\n",
    "    \n",
    "plt.plot(x_all,y_all_pred_list[:,0], color='blue',label='prediction(deg=2)')\n",
    "plt.plot(x_all,y_all_pred_list[:,1], color='green',label='prediction(deg=3)')\n",
    "plt.plot(x_all,y_all_pred_list[:,2], color='yellow',label='prediction(deg=4)')\n",
    "plt.plot(x_all,y_all_pred_list[:,3], color='purple',label='prediction(deg=6)')\n",
    "plt.plot(x_all,y_all_pred_list[:,4], color='orange',label='prediction(deg=8)')\n",
    "plt.legend(loc='upper left')\n",
    "plt.show()"
   ]
  },
  {
   "cell_type": "code",
   "execution_count": 69,
   "metadata": {},
   "outputs": [
    {
     "data": {
      "text/plain": [
       "array([ 66.939709  ,  62.60567143,   4.56513614,  42.81018711,\n",
       "       145.89190194])"
      ]
     },
     "execution_count": 69,
     "metadata": {},
     "output_type": "execute_result"
    }
   ],
   "source": [
    "fig2 = plt.figure()\n",
    "plt.scatter(x_train, y_train, color='black',label = 'train')\n",
    "plt.scatter(x_test, y_test, color='red',label='test')\n",
    "for i in range(5):\n",
    "    \n",
    "    plt.plot(x_all,y_all_pred, color='blue',label='prediction of test')\n",
    "    plt.legend(loc='upper left')\n",
    "    #plt.show()"
   ]
  },
  {
   "cell_type": "code",
   "execution_count": 70,
   "metadata": {},
   "outputs": [
    {
     "data": {
      "text/plain": [
       "(101, 5)"
      ]
     },
     "execution_count": 70,
     "metadata": {},
     "output_type": "execute_result"
    }
   ],
   "source": [
    "y_all_pred_list.shape"
   ]
  },
  {
   "cell_type": "code",
   "execution_count": 60,
   "metadata": {},
   "outputs": [
    {
     "data": {
      "text/plain": [
       "(101, 1)"
      ]
     },
     "execution_count": 60,
     "metadata": {},
     "output_type": "execute_result"
    }
   ],
   "source": [
    "y_all_pred.shape"
   ]
  },
  {
   "cell_type": "markdown",
   "metadata": {},
   "source": [
    "# (c)"
   ]
  },
  {
   "cell_type": "markdown",
   "metadata": {},
   "source": [
    "Draw the MSE of train set and test set verses polynomial degrees to see overfitting/underfitting effect."
   ]
  },
  {
   "cell_type": "code",
   "execution_count": 82,
   "metadata": {},
   "outputs": [
    {
     "data": {
      "image/png": "[encoded data removed]",
      "text/plain": [
       "<Figure size 1080x720 with 1 Axes>"
      ]
     },
     "metadata": {
      "needs_background": "light"
     },
     "output_type": "display_data"
    }
   ],
   "source": [
    "x_axis = np.array([2,3,4,6,8])\n",
    "fig = plt.figure(figsize=(15,10))\n",
    "plt.scatter(x_axis, MSE_test_list, color='black',label = 'test')\n",
    "plt.scatter(x_axis, MSE_train_list, color='red',label='train')\n",
    "#plt.plot(x_all,y_all_pred, color='blue',label='prediction of test')\n",
    "plt.legend(loc='upper left')\n",
    "plt.xlabel(\"degree of polynomial\")\n",
    "plt.ylabel(\"MSE\")\n",
    "plt.show()"
   ]
  },
  {
   "cell_type": "code",
   "execution_count": 80,
   "metadata": {},
   "outputs": [
    {
     "data": {
      "text/plain": [
       "array([ 66.939709  ,  62.60567143,   4.56513614,  42.81018711,\n",
       "       145.89190194])"
      ]
     },
     "execution_count": 80,
     "metadata": {},
     "output_type": "execute_result"
    }
   ],
   "source": [
    "MSE_test_list"
   ]
  },
  {
   "cell_type": "code",
   "execution_count": null,
   "metadata": {},
   "outputs": [],
   "source": []
  }
 ],
 "metadata": {
  "kernelspec": {
   "display_name": "Python 3",
   "language": "python",
   "name": "python3"
  },
  "language_info": {
   "codemirror_mode": {
    "name": "ipython",
    "version": 3
   },
   "file_extension": ".py",
   "mimetype": "text/x-python",
   "name": "python",
   "nbconvert_exporter": "python",
   "pygments_lexer": "ipython3",
   "version": "3.7.3"
  }
 },
 "nbformat": 4,
 "nbformat_minor": 4
}
