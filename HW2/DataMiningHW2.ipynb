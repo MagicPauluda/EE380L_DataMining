{
 "cells": [
  {
   "cell_type": "markdown",
   "metadata": {},
   "source": [
    "# <p style=\"text-align: center;\">EE 380L: Data Mining</p>\n",
    "# <p style=\"text-align: center;\">Assignment 2</p>\n",
    "## <p style=\"text-align: center;\">Total points: 85 </p>\n",
    "## <p style=\"text-align: center;\">Due: September 29th(09/29/2020) submitted via Canvas by 11:59 pm</p>\n",
    "\n",
    "Your homework should be written in a **Jupyter notebook**. You may work in groups of two if you wish. Only one student per team needs to submit the assignment on Canvas.  But be sure to include name and UT eID for both students.\n",
    "\n",
    "Also, please make sure your code runs and the graphics (and anything else) are displayed in your notebook before submitting. (%matplotlib inline)*\n",
    "\n",
    "For the descriptive questions, you can write down the solution in paper and embed a picture of it to the notebook or type it out."
   ]
  },
  {
   "cell_type": "markdown",
   "metadata": {},
   "source": [
    "# Question 1 - Regularized regression (40 pts)\n",
    "The data given is in \"data.csv\" - this is same fish dataset from the previous assignment, in this question you will explore the application of Lasso and Ridge regression using sklearn package in Python.\n",
    "\n",
    "* Use the below code to load the dataset given in data.csv. Create a train_test split of 75:25 with random state = 50\n",
    "\n",
    "* Scale the data so that each of the independent variables have zero mean and unit variance. You can use the [sklearn.preprocessing.scale](https://scikit-learn.org/stable/modules/generated/sklearn.preprocessing.scale.html) function for this."
   ]
  },
  {
   "cell_type": "code",
   "execution_count": 2,
   "metadata": {},
   "outputs": [],
   "source": [
    "from sklearn import linear_model\n",
    "from sklearn.metrics import mean_absolute_error\n",
    "from sklearn.metrics import mean_squared_error\n",
    "from sklearn.metrics import r2_score\n",
    "import numpy as np\n",
    "import pandas as pd\n",
    "pd.options.mode.chained_assignment = None\n",
    "\n",
    "\n",
    "df = pd.read_csv(\"data.csv\", index_col=0)\n",
    "df = df[~df.isin([0, np.nan, np.inf, -np.inf]).any(1)]\n",
    "\n",
    "X = df.drop(['Weight'], axis=1)\n",
    "y = df['Weight']"
   ]
  },
  {
   "cell_type": "code",
   "execution_count": 3,
   "metadata": {},
   "outputs": [],
   "source": [
    "from sklearn.preprocessing import scale\n",
    "X_s = scale(X)"
   ]
  },
  {
   "cell_type": "code",
   "execution_count": 4,
   "metadata": {},
   "outputs": [],
   "source": [
    "from sklearn.model_selection import train_test_split\n",
    "X_train, X_test, y_train, y_test = train_test_split(X_s, y, test_size = 1/4, random_state=50)"
   ]
  },
  {
   "cell_type": "markdown",
   "metadata": {},
   "source": [
    "a) Use sklearn.linear_model.Lasso and sklearn.linear_model.Ridge classes to do a [5-fold cross validation](http://scikit-learn.org/stable/auto_examples/exercises/plot_cv_diabetes.html#example-exercises-plot-cv-diabetes-py) using sklearn's [KFold](http://scikit-learn.org/stable/modules/generated/sklearn.cross_validation.KFold.html). For the sweep of the regularization parameter, we will look at a grid of values ranging from $\\lambda = 10^{10}$ to $\\lambda = 10^{-2}$. In Python, you can consider this range of values as follows:\n",
    "\n",
    "      import numpy as np\n",
    "\n",
    "      alphas =  10**np.linspace(10,-2,100)*0.5\n",
    "\n",
    "  Report the best chosen $\\lambda$ based on cross validation. The cross validation should happen on your training data using  average MSE as the scoring metric. (8pts)\n",
    "\n",
    "b) Run ridge and lasso for all of the alphas specified above (on training data), and plot the coefficients learned for each of them - there should be one plot each for lasso and ridge, so a total of two plots; the plots for different features for a method should be on the same plot. What do you qualitatively observe when value of the regularization parameter is changed? (7pts)\n",
    "\n",
    "c) Run least squares regression, ridge, and lasso on the training data. For ridge and lasso, use only the best regularization parameter. Report the prediction error (MAE), Mean Squared Error(MSE) and ${R^2}$ on the test data for each. (5pts)\n",
    "\n",
    "d) Run lasso again with cross validation using [sklearn.linear_model.LassoCV](http://scikit-learn.org/stable/modules/generated/sklearn.linear_model.LassoCV.html). Set the cross validation parameters as follows:\n",
    "\n",
    "    LassoCV(alphas=None, cv=10, max_iter=10000)\n",
    "\n",
    "Report the best $\\lambda$ based on cross validation. Run lasso on the training data using the best $\\lambda$ and report the coefficeints for all variables. (5pts)\n",
    "\n",
    "e) Why did we have to scale the data before regularization? (5pts)\n",
    "\n",
    "f) Lasso and ridge regularization techniques are often used to combat overfitting during linear regression. Which of the two yields more sparse models (i.e. fewer number of parameters) when the tuning parameter $\\lambda$ is sufficiently large (but not infinite)? (5 pts)\n",
    "\n",
    "g) Run ElasticNet with the same values of alphas on the training data, and find the best value for alpha using MSE. Report the ${R^2}$ on test data and plot a graph showing the predictions and actual labels. Explain the results comparing the three regression models.(5 pts)"
   ]
  },
  {
   "cell_type": "code",
   "execution_count": 14,
   "metadata": {},
   "outputs": [
    {
     "name": "stdout",
     "output_type": "stream",
     "text": [
      "Best lasso λ: 0.5748784976988678, Best MSE: 17402.0018798434\n",
      "Best ridge λ: 16.372745814388658, Best MSE: 16899.14986242799\n"
     ]
    }
   ],
   "source": [
    "# a) Use sklearn.linear_model.Lasso and sklearn.linear_model.Ridge classes \n",
    "#    to do a 5-fold cross validation using sklearn's KFold. \n",
    "#    For the sweep of the regularization parameter, \n",
    "#    we will look at a grid of values ranging from  𝜆=10^10  to  𝜆=10^−2. \n",
    "#    Report the best chosen  𝜆  based on cross validation. \n",
    "#    The cross validation should happen on your training data using average MSE as the scoring metric. (8pts)\n",
    "\n",
    "from sklearn.model_selection import KFold\n",
    "from sklearn.linear_model import Ridge, Lasso\n",
    "\n",
    "import numpy as np\n",
    "import matplotlib.pyplot as plt\n",
    "\n",
    "n_folds = 5\n",
    "kf = KFold(n_folds)\n",
    "kf.get_n_splits(X_train)\n",
    "alphas =  10 ** np.linspace(10, -2, 100) * 0.5\n",
    "lasso_avg_rmse = {}\n",
    "ridge_avg_rmse = {}\n",
    "\n",
    "for alpha in alphas:\n",
    "    lasso = Lasso(alpha = alpha, max_iter = 1000000)\n",
    "    avg_mse = 0\n",
    "    for train_index, test_index in kf.split(X_train):\n",
    "        lasso.fit(X_train[train_index], y_train[train_index])\n",
    "        avg_mse = avg_mse + mean_squared_error(y_train[test_index], lasso.predict(X_train[test_index])) \n",
    "    lasso_avg_rmse[alpha] = avg_mse / n_folds\n",
    "best_alpha_lasso = min(lasso_avg_rmse, key = lasso_avg_rmse.get)\n",
    "print(\"Best lasso λ: {0}, Best MSE: {1}\".format(best_alpha_lasso, lasso_avg_rmse[best_alpha_lasso]))\n",
    "\n",
    "for alpha in alphas:\n",
    "    ridge = Ridge(alpha = alpha, max_iter = 1000000)\n",
    "    avg_mse = 0\n",
    "    for train_index, test_index in kf.split(X_train):\n",
    "        ridge.fit(X_train[train_index], y_train[train_index])\n",
    "        avg_mse = avg_mse + mean_squared_error(y_train[test_index], ridge.predict(X_train[test_index])) \n",
    "    ridge_avg_rmse[alpha] = avg_mse / n_folds\n",
    "best_alpha_ridge = min(ridge_avg_rmse, key = ridge_avg_rmse.get)\n",
    "print(\"Best ridge λ: {0}, Best MSE: {1}\".format(best_alpha_ridge, ridge_avg_rmse[best_alpha_ridge]))"
   ]
  },
  {
   "cell_type": "code",
   "execution_count": 9,
   "metadata": {},
   "outputs": [],
   "source": [
    "# b) Run ridge and lasso for all of the alphas specified above (on training data), \n",
    "#    and plot the coefficients learned for each of them - there should be one plot each for lasso and ridge, \n",
    "#    so a total of two plots; the plots for different features for a method should be on the same plot. \n",
    "#    What do you qualitatively observe when value of the regularization parameter is changed? (7pts)\n",
    "\n",
    "cof_lasso, cof_ridge = [], []\n",
    "\n",
    "for a in alphas:\n",
    "    regression_lasso = Lasso(alpha = a, max_iter = 1000000)\n",
    "    regression_lasso.fit(X_train, y_train)\n",
    "    cof_lasso.append(regression_lasso.coef_)\n",
    "    \n",
    "    regression_ridge = Ridge(alpha = a, max_iter = 1000000)\n",
    "    regression_ridge.fit(X_train, y_train)\n",
    "    cof_ridge.append(regression_ridge.coef_)\n",
    "    "
   ]
  },
  {
   "cell_type": "code",
   "execution_count": 10,
   "metadata": {},
   "outputs": [
    {
     "data": {
      "image/png": "[encoded data removed]",
      "text/plain": [
       "<Figure size 576x432 with 1 Axes>"
      ]
     },
     "metadata": {
      "needs_background": "light"
     },
     "output_type": "display_data"
    },
    {
     "data": {
      "image/png": "[encoded data removed]",
      "text/plain": [
       "<Figure size 576x432 with 1 Axes>"
      ]
     },
     "metadata": {
      "needs_background": "light"
     },
     "output_type": "display_data"
    }
   ],
   "source": [
    "plt.figure().set_size_inches(8, 6);\n",
    "plt.semilogx(alphas, cof_lasso);\n",
    "plt.figure().set_size_inches(8, 6);\n",
    "plt.semilogx(alphas, cof_ridge);"
   ]
  },
  {
   "cell_type": "markdown",
   "metadata": {},
   "source": [
    "For both the Lasso and Ridge methods, the coefficients will become 0 when $\\lambda$ is large enough. For the Lasso method, the coefficient becomes 0 earlier than the Ridge and can generate different models when $\\lambda$ is diffrent. But for the Ridge method, the change is more smooth and all the coefficients will become 0 when $\\lambda$ reaches a same value."
   ]
  },
  {
   "cell_type": "code",
   "execution_count": 11,
   "metadata": {},
   "outputs": [
    {
     "name": "stdout",
     "output_type": "stream",
     "text": [
      "Lasso MSE: 16741.865481904108\n",
      "Lasso MAE: 99.68791588279839\n",
      "Lasso R^2: 0.889192935924203\n",
      "Ridge MSE: 17102.465955427877\n",
      "Ridge MAE: 101.72767183151299\n",
      "Ridge R^2: 0.8794745322812632\n",
      "Least squares MSE: 16780.354790542042\n",
      "Least squares MAE: 97.81799831813109\n",
      "Least squares R^2: 0.8867601817945082\n"
     ]
    }
   ],
   "source": [
    "# c) Run least squares regression, ridge, and lasso on the training data. \n",
    "#    For ridge and lasso, use only the best regularization parameter. \n",
    "#    Report the prediction error (MAE), Mean Squared Error(MSE) and  𝑅2  on the test data for each. (5pts)\n",
    "\n",
    "regression_lasso = Lasso(alpha = best_alpha_lasso, max_iter = 1000000)\n",
    "regression_lasso.fit(X_train, y_train)\n",
    "mse_lasso = mean_squared_error(regression_lasso.predict(X_test), y_test)\n",
    "mae_lasso = mean_absolute_error(regression_lasso.predict(X_test), y_test)\n",
    "r2_lasso = r2_score(regression_lasso.predict(X_test), y_test)\n",
    "\n",
    "regression_ridge = Ridge(alpha = best_alpha_ridge, max_iter = 1000000)\n",
    "regression_ridge.fit(X_train, y_train)\n",
    "mse_ridge = mean_squared_error(regression_ridge.predict(X_test), y_test)\n",
    "mae_ridge = mean_absolute_error(regression_ridge.predict(X_test), y_test)\n",
    "r2_ridge = r2_score(regression_ridge.predict(X_test), y_test)\n",
    "\n",
    "regression_linear = linear_model.LinearRegression()\n",
    "regression_linear.fit(X_train, y_train)\n",
    "mse_linear = mean_squared_error(regression_linear.predict(X_test), y_test)\n",
    "mae_linear = mean_absolute_error(regression_linear.predict(X_test), y_test)\n",
    "r2_linear = r2_score(regression_linear.predict(X_test), y_test)\n",
    "\n",
    "print(\"Lasso MSE:\", mse_lasso)\n",
    "print(\"Lasso MAE:\", mae_lasso)\n",
    "print(\"Lasso R^2:\", r2_lasso)\n",
    "print(\"Ridge MSE:\", mse_ridge)\n",
    "print(\"Ridge MAE:\", mae_ridge)\n",
    "print(\"Ridge R^2:\", r2_ridge)\n",
    "print(\"Least squares MSE:\", mse_linear)\n",
    "print(\"Least squares MAE:\", mae_linear)\n",
    "print(\"Least squares R^2:\", r2_linear)"
   ]
  },
  {
   "cell_type": "code",
   "execution_count": 12,
   "metadata": {},
   "outputs": [
    {
     "name": "stdout",
     "output_type": "stream",
     "text": [
      "Best lambda:  0.7125553072694414\n",
      "Coefficient:  [210.77139895   1.51957951  -0.          65.07565615  82.10563001]\n"
     ]
    }
   ],
   "source": [
    "# d) Run lasso again with cross validation using sklearn.linear_model.LassoCV. \n",
    "#    Set the cross validation parameters as follows:\n",
    "#    LassoCV(alphas=None, cv=10, max_iter=10000)\n",
    "#    Report the best 𝜆 based on cross validation. \n",
    "#    Run lasso on the training data using the best 𝜆 and report the coefficeints for all variables. (5pts)\n",
    "\n",
    "from sklearn.linear_model import LassoCV\n",
    "lasso_cv = LassoCV(alphas = None, cv = 10, max_iter = 100000)\n",
    "regression_lasso_cv = lasso_cv.fit(X_train, y_train)\n",
    "lambda_optimal = regression_lasso_cv.alpha_\n",
    "coef = regression_lasso_cv.coef_\n",
    "\n",
    "print(\"Best lambda: \", lambda_optimal)\n",
    "print(\"Coefficient: \", coef)"
   ]
  },
  {
   "cell_type": "markdown",
   "metadata": {},
   "source": [
    "e) Why did we have to scale the data before regularization? (5pts)\n",
    "\n",
    "ANSWER: \n",
    "    \n",
    "    1. The scaling process makes training less sensitive to the scale of features.\n",
    "    \n",
    "    2. Regularization behaves differently for different scaling.\n",
    "    \n",
    "    3. It gives consistency for comparing results across models.\n",
    "    \n",
    "    4. It makes optimization well-conditioned."
   ]
  },
  {
   "cell_type": "markdown",
   "metadata": {},
   "source": [
    "f) Lasso and ridge regularization techniques are often used to combat overfitting during linear regression. Which of the two yields more sparse models (i.e. fewer number of parameters) when the tuning parameter 𝜆 is sufficiently large (but not infinite)? (5 pts)\n",
    "\n",
    "ANSWER: Ridge yields more sparse models."
   ]
  },
  {
   "cell_type": "code",
   "execution_count": 13,
   "metadata": {},
   "outputs": [
    {
     "name": "stdout",
     "output_type": "stream",
     "text": [
      "Best ElasticNet λ: 0.005, Best MSE: 0.005\n",
      "ElasticNet R^2: 0.8881433719376358\n"
     ]
    },
    {
     "data": {
      "image/png": "[encoded data removed]",
      "text/plain": [
       "<Figure size 576x432 with 1 Axes>"
      ]
     },
     "metadata": {
      "needs_background": "light"
     },
     "output_type": "display_data"
    }
   ],
   "source": [
    "# g) Run ElasticNet with the same values of alphas on the training data, \n",
    "#    and find the best value for alpha using MSE. Report the 𝑅2 on test data \n",
    "#    and plot a graph showing the predictions and actual labels. \n",
    "#    Explain the results comparing the three regression models.(5 pts)\n",
    "\n",
    "from sklearn.linear_model import ElasticNet\n",
    "\n",
    "alphas =  10 ** np.linspace(10, -2, 100) * 0.5\n",
    "ENet_mse = {}\n",
    "cof_ENet = []\n",
    "\n",
    "for alpha in alphas:\n",
    "    ENet = ElasticNet(alpha = alpha, max_iter = 1000000)\n",
    "    ENet.fit(X_train, y_train)\n",
    "    cof_ENet.append(ENet.coef_)\n",
    "    ENet_mse[alpha] = mean_squared_error(y_train, ENet.predict(X_train)) \n",
    "best_alpha_ENet = min(ENet_mse, key = ENet_mse.get)\n",
    "\n",
    "print(\"Best ElasticNet λ: {0}, Best MSE: {1}\".format(best_alpha_ENet, min(ENet_mse)))\n",
    "\n",
    "r2_ENet = r2_score(ENet.predict(X_test), y_test)\n",
    "print(\"ElasticNet R^2:\", r2_ENet)\n",
    "\n",
    "plt.figure().set_size_inches(8, 6);\n",
    "plt.semilogx(alphas, cof_ENet);"
   ]
  },
  {
   "cell_type": "markdown",
   "metadata": {},
   "source": [
    "# Practice Problem - Linear Regression: Least Squares and MLE (Not to be submitted)  \n",
    "This question is a practise for you all to understand mathematically the assumptions of linear regression model. \n",
    "\n",
    "Consider linear regression with a single independent variable. Thus, predicted values are given by:  \n",
    "$$y  = w_0  + w_1 x$$\n",
    "\n",
    "Mathematically show that if the assumptions behind linear regression hold (slide 3 of the MLR slides), then the values of $w_0$ and $w_1$ obtained by minimizing MSE are indeed the  maximum likelihood solution of the corresponding underlying probability model relating the target variable to the input variable."
   ]
  },
  {
   "cell_type": "code",
   "execution_count": null,
   "metadata": {},
   "outputs": [],
   "source": []
  },
  {
   "cell_type": "markdown",
   "metadata": {},
   "source": [
    "# Question 2 - Linear Regression: Regularizaton - Least Squares and MLE (5 pts)\n",
    "Consider linear regression with an additional regularization term. The, predicted values are given by:  \n",
    "$$\\textrm{min}_{\\beta} \\Bigg\\{\\sum_{i}(y_{i}-\\beta x_i{'})^2 \\Bigg\\} + \\lambda \\beta^2$$ \n",
    "\n",
    "\n",
    "where in this problem $y_i$, $x_i$, and $\\beta$ are all scalars. Find a formula for $\\beta$ that minimizes the equation above and prove that $\\beta$ minimizes the equation above. $\\lambda$ is a positive constant\n"
   ]
  },
  {
   "cell_type": "code",
   "execution_count": null,
   "metadata": {},
   "outputs": [],
   "source": []
  },
  {
   "cell_type": "markdown",
   "metadata": {},
   "source": [
    "# Question 3 - Finding ${R^2}$ (10 pts)\n",
    "\n",
    "Suppose we are given samples generated according to\n",
    "\n",
    "$y_i$ = $8x_i$ + $w_i$\n",
    "where $w_i$ and $x_i$ are $N(0,1)$. \n",
    "\n",
    "Assume we have infinite samples.\n",
    "\n",
    "(a) What will be the linear regression predictor $\\hat{\\beta}$ ? (5 pts)\n",
    "\n",
    "(b) What will be the ${R^2}$ of this $\\hat{\\beta}$  ? (5 pts)"
   ]
  },
  {
   "cell_type": "code",
   "execution_count": null,
   "metadata": {},
   "outputs": [],
   "source": []
  },
  {
   "cell_type": "markdown",
   "metadata": {},
   "source": [
    "# Question 4 - Collinearity in Multiple Linear Regression (5pts)\n",
    "What do you understand by the collinearity problem that can be encountered in MLR? Suggest one way of alleviating this problem."
   ]
  },
  {
   "cell_type": "code",
   "execution_count": null,
   "metadata": {},
   "outputs": [],
   "source": []
  },
  {
   "cell_type": "markdown",
   "metadata": {},
   "source": [
    "# Question 5 - Bias - Variance (5 pts)\n",
    "Suppose you learn a ridge regression based on some of the independent variables available to you,\n",
    "and including a few interaction terms as well. Your result is disappointing, and you believe that the model is\n",
    "suffering from either too much bias or too much variance. Describe briefly how you will test which alternative is\n",
    "more likely to be true. (there is no extra data that you can use, so “get more data” is not an option).\n"
   ]
  },
  {
   "cell_type": "code",
   "execution_count": null,
   "metadata": {},
   "outputs": [],
   "source": []
  },
  {
   "cell_type": "markdown",
   "metadata": {},
   "source": [
    "# Question 6 (20 pts): \n",
    "\n",
    "We want to build a model that can predict y for unknown inputs x.(15 pts)\n",
    "\n",
    "(a) (5 pts) Fit a linear model to the training data, and report mean squared error on the test data. Plot the data (y_train vs x_train and y_test vs x_test) and predictions on the test set (prediction on x_test vs x_test), clearly denoting the training, testing, and predicted points. All the plots must be in the same figure and be clearly labeled.\n",
    "\n",
    "(b) (10 pts) Fit polynomial models of degrees 2, 3, 4, 6 and 8 to the training data, Report mean squared error (on both train and test sets) for all the models. Plot the data (y_train vs x_train and y_test vs x_test), the fitted models (prediction on x_all by different models vs x_all), and the predictions on the test set (prediction on x_test by different models vs x_test). All the plots must be in the same figure and be clearly labeled.\n",
    "\n",
    "\n",
    "(c) (5 pts) Which model performed the best? Explain using the bias-variance tradeoff.\n"
   ]
  },
  {
   "cell_type": "markdown",
   "metadata": {},
   "source": [
    "* Use the below code to load the data from the file 'ps01.data'. It is organized as a dictionary, of train and test data."
   ]
  },
  {
   "cell_type": "code",
   "execution_count": 7,
   "metadata": {},
   "outputs": [],
   "source": [
    "from sklearn import linear_model as lm\n",
    "from sklearn.metrics import mean_squared_error,mean_absolute_error\n",
    "import matplotlib.pyplot as plt\n",
    "import numpy as np\n",
    "%matplotlib inline\n",
    "# code here\n",
    "\n",
    "data_load = np.load('ps01.data',allow_pickle=True)\n",
    "x_train = data_load.item().get(\"Xtrain\")\n",
    "y_train = data_load.item().get(\"Ytrain\")\n",
    "x_test = data_load.item().get(\"Xtest\")\n",
    "y_test =data_load.item().get(\"Ytest\")\n",
    "x_all = np.linspace(-10,10,101).reshape(-1,1)"
   ]
  },
  {
   "cell_type": "code",
   "execution_count": null,
   "metadata": {},
   "outputs": [],
   "source": []
  }
 ],
 "metadata": {
  "kernelspec": {
   "display_name": "Python 3",
   "language": "python",
   "name": "python3"
  },
  "language_info": {
   "codemirror_mode": {
    "name": "ipython",
    "version": 3
   },
   "file_extension": ".py",
   "mimetype": "text/x-python",
   "name": "python",
   "nbconvert_exporter": "python",
   "pygments_lexer": "ipython3",
   "version": "3.7.3"
  }
 },
 "nbformat": 4,
 "nbformat_minor": 4
}
